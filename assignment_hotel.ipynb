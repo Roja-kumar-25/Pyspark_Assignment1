{
 "cells": [
  {
   "cell_type": "markdown",
   "metadata": {},
   "source": [
    "TO CREATE THE SPARK SESSION"
   ]
  },
  {
   "cell_type": "code",
   "execution_count": 1,
   "metadata": {},
   "outputs": [
    {
     "name": "stderr",
     "output_type": "stream",
     "text": [
      "24/10/14 15:08:42 WARN Utils: Your hostname, AI-CJB-LAP-459 resolves to a loopback address: 127.0.1.1; using 192.168.1.164 instead (on interface wlp0s20f3)\n",
      "24/10/14 15:08:42 WARN Utils: Set SPARK_LOCAL_IP if you need to bind to another address\n",
      "Setting default log level to \"WARN\".\n",
      "To adjust logging level use sc.setLogLevel(newLevel). For SparkR, use setLogLevel(newLevel).\n",
      "24/10/14 15:08:42 WARN NativeCodeLoader: Unable to load native-hadoop library for your platform... using builtin-java classes where applicable\n"
     ]
    }
   ],
   "source": [
    "from pyspark.sql import SparkSession\n",
    "spark= SparkSession.builder.master(\"local[1]\").appName(\"Assignment1.com\").getOrCreate()\n"
   ]
  },
  {
   "cell_type": "markdown",
   "metadata": {},
   "source": [
    "IMPORTING STATEMENT"
   ]
  },
  {
   "cell_type": "code",
   "execution_count": 20,
   "metadata": {},
   "outputs": [],
   "source": [
    "from pyspark.sql.functions import col,monotonically_increasing_id,regexp_replace,split,size,sum,avg,regexp_extract,desc,collect_list,first\n",
    "from pyspark.sql.types import *\n",
    "# from pyspark.sql import functions as F"
   ]
  },
  {
   "cell_type": "markdown",
   "metadata": {},
   "source": [
    "LOADING THE CSV FILE AS AN RDD  AND CONVERTING RDD TO DATAFRAME"
   ]
  },
  {
   "cell_type": "code",
   "execution_count": 3,
   "metadata": {},
   "outputs": [
    {
     "name": "stdout",
     "output_type": "stream",
     "text": [
      "type: <class 'pyspark.rdd.RDD'>\n"
     ]
    },
    {
     "name": "stderr",
     "output_type": "stream",
     "text": [
      "                                                                                \r"
     ]
    },
    {
     "name": "stdout",
     "output_type": "stream",
     "text": [
      "+---------------+--------------+---------+----------------+----------+----------+--------+--------------+------------------------------+\n",
      "|Holding company|Headquarters  |Locations|Year established|Properties|Rooms     |Category|Managed brands|Franchised brands             |\n",
      "+---------------+--------------+---------+----------------+----------+----------+--------+--------------+------------------------------+\n",
      "|Accor          |Paris (France)|Worldwide|1967            |5,300[4]  |778,000[4]|Luxury  |Raffles       |Banyan Tree Hótels and Resorts|\n",
      "+---------------+--------------+---------+----------------+----------+----------+--------+--------------+------------------------------+\n",
      "only showing top 1 row\n",
      "\n"
     ]
    }
   ],
   "source": [
    "data=spark.read.options(delimiter=\",\",header=\"true\").csv(\"/home/ai/Documents/my files/assignment/hotels.csv\")\n",
    "rdd1=data.rdd\n",
    "print(\"type:\",type(rdd1))\n",
    "df=rdd1.toDF()\n",
    "df.show(1,truncate=False)"
   ]
  },
  {
   "cell_type": "markdown",
   "metadata": {},
   "source": [
    "TO CREATE A DATAFRAME WHERE IT CONTAINS  COLUMNS[\"Holding company\", \"Headquarters\", \"Locations\", \"Year established\", \"Properties\", \"Rooms\"]"
   ]
  },
  {
   "cell_type": "code",
   "execution_count": 4,
   "metadata": {},
   "outputs": [],
   "source": [
    "df1 = df.select(\"Holding company\",\"Headquarters\", \"Locations\", \"Year established\", \"Properties\", \"Rooms\")\n"
   ]
  },
  {
   "cell_type": "code",
   "execution_count": 5,
   "metadata": {},
   "outputs": [
    {
     "name": "stdout",
     "output_type": "stream",
     "text": [
      "+---------------+--------------+---------+----------------+----------+--------+\n",
      "|Holding company|  Headquarters|Locations|Year established|Properties|   Rooms|\n",
      "+---------------+--------------+---------+----------------+----------+--------+\n",
      "|          Accor|Paris (France)|Worldwide|            1967|    5,3004|778,0004|\n",
      "+---------------+--------------+---------+----------------+----------+--------+\n",
      "only showing top 1 row\n",
      "\n"
     ]
    }
   ],
   "source": [
    "for column in df1.columns:\n",
    "    df1 = df1.withColumn(column, regexp_replace(column, \"\\\\[|\\\\]\", \"\"))\n",
    "df1.show(1)\n",
    "# df1.filter(col(\"Holding company\")==\"Red Roof Inn \").show()"
   ]
  },
  {
   "cell_type": "markdown",
   "metadata": {},
   "source": [
    "only 1 row per \"Holding company\", be sure to concatenate info if they appear in more than one row/cell)"
   ]
  },
  {
   "cell_type": "code",
   "execution_count": 6,
   "metadata": {},
   "outputs": [
    {
     "name": "stdout",
     "output_type": "stream",
     "text": [
      "+---------------+--------------+---------+----------------+----------+--------+\n",
      "|Holding company|  Headquarters|Locations|Year established|Properties|   Rooms|\n",
      "+---------------+--------------+---------+----------------+----------+--------+\n",
      "|          Accor|Paris (France)|Worldwide|            1967|    5,3004|778,0004|\n",
      "+---------------+--------------+---------+----------------+----------+--------+\n",
      "only showing top 1 row\n",
      "\n"
     ]
    }
   ],
   "source": [
    "df1.show(1)"
   ]
  },
  {
   "cell_type": "markdown",
   "metadata": {},
   "source": [
    "NO MISSING IN ANY COLUMNS\n",
    "imputing the null values with mode\n",
    "\n",
    "\n",
    "CLEAN INFORMATION ABOUT THE REFERENCES (THEY APPEAR AS[NUMBER])\n"
   ]
  },
  {
   "cell_type": "code",
   "execution_count": 7,
   "metadata": {},
   "outputs": [
    {
     "name": "stdout",
     "output_type": "stream",
     "text": [
      "root\n",
      " |-- Holding company: string (nullable = true)\n",
      " |-- Headquarters: string (nullable = true)\n",
      " |-- Locations: string (nullable = true)\n",
      " |-- Year established: string (nullable = true)\n",
      " |-- Properties: string (nullable = true)\n",
      " |-- Rooms: string (nullable = true)\n",
      "\n"
     ]
    }
   ],
   "source": [
    "df1.printSchema()"
   ]
  },
  {
   "cell_type": "markdown",
   "metadata": {},
   "source": [
    "CREATE A NEW COLUMN ASSOCIATED \"HEADQUARTERS COUNTRY\"(NOW IS PART OF THE COLUMN \"HEADQUARTERS\")"
   ]
  },
  {
   "cell_type": "code",
   "execution_count": 8,
   "metadata": {},
   "outputs": [
    {
     "name": "stdout",
     "output_type": "stream",
     "text": [
      "+---------------+--------------+---------+----------------+----------+--------+--------------------+\n",
      "|Holding company|Headquarters  |Locations|Year established|Properties|Rooms   |Headquarters country|\n",
      "+---------------+--------------+---------+----------------+----------+--------+--------------------+\n",
      "|Accor          |Paris (France)|Worldwide|1967            |5,3004    |778,0004|France              |\n",
      "+---------------+--------------+---------+----------------+----------+--------+--------------------+\n",
      "only showing top 1 row\n",
      "\n",
      "+--------------------+--------------------+\n",
      "|Headquarters        |Headquarters country|\n",
      "+--------------------+--------------------+\n",
      "|Paris (France)      |France              |\n",
      "|Baar, Switzerland   |                    |\n",
      "|Tokyo (Japan)       |Japan               |\n",
      "|Jakarta, (Indonesia)|Indonesia           |\n",
      "|Singapore           |                    |\n",
      "|Karachi (Pakistan)  |Pakistan            |\n",
      "|Singapore           |                    |\n",
      "|Paris (France)      |France              |\n",
      "|Hamilton (Bermuda)  |Bermuda             |\n",
      "|Phoenix (USA)       |USA                 |\n",
      "+--------------------+--------------------+\n",
      "only showing top 10 rows\n",
      "\n"
     ]
    }
   ],
   "source": [
    "# from pyspark.sql import functions as F\n",
    "\n",
    "df1 = df1.withColumn(\n",
    "    \"Headquarters country\",\n",
    "    regexp_extract(col(\"Headquarters\"), r'\\(([^)]+)\\)', 1)  # Extract text within parentheses\n",
    ")\n",
    "# # to remove the country from the headquarters\n",
    "# df1 = df1.withColumn(\n",
    "#     \"Headquarters\",\n",
    "#     F.regexp_replace(col(\"Headquarters\"), r'\\s*\\(.*\\)', '')  # Remove the text in parentheses\n",
    "# )\n",
    "\n",
    "\n",
    "df1.show(1,truncate=False)\n",
    "# Show the result with the new column\n",
    "df1.select(\"Headquarters\", \"Headquarters country\").filter(col(\"Headquarters\")!=\"null\").show(10,truncate=False)"
   ]
  },
  {
   "cell_type": "markdown",
   "metadata": {},
   "source": [
    "SECOND DATAFRAME"
   ]
  },
  {
   "cell_type": "markdown",
   "metadata": {},
   "source": [
    "THE SECOND DATAFRAME WITH COLUMNSA[\"HOLDING COMPANY\",\"CATEGORY\",\"MANAGED BRANDS\",\"FRANCHISED BRANDS\"]"
   ]
  },
  {
   "cell_type": "code",
   "execution_count": 9,
   "metadata": {},
   "outputs": [
    {
     "name": "stdout",
     "output_type": "stream",
     "text": [
      "+---------------+--------+--------------+------------------------------+\n",
      "|Holding company|Category|Managed brands|Franchised brands             |\n",
      "+---------------+--------+--------------+------------------------------+\n",
      "|Accor          |Luxury  |Raffles       |Banyan Tree Hótels and Resorts|\n",
      "+---------------+--------+--------------+------------------------------+\n",
      "only showing top 1 row\n",
      "\n"
     ]
    }
   ],
   "source": [
    "df2 = df.select(\n",
    "    \"Holding company\",\n",
    "    \"Category\",           # This column should already exist in df\n",
    "    \"Managed brands\",     # This column should already exist in df\n",
    "    \"Franchised brands\"   # This column should already exist in df\n",
    ")\n",
    "df2.show(1, truncate=False)\n"
   ]
  },
  {
   "cell_type": "markdown",
   "metadata": {},
   "source": [
    "ONLY THE FRANCHISED BRANDS COLUMN CAN POSSESS NULL VALUES"
   ]
  },
  {
   "cell_type": "code",
   "execution_count": 10,
   "metadata": {},
   "outputs": [
    {
     "name": "stdout",
     "output_type": "stream",
     "text": [
      "+-------------------------+--------+------------------------------------------------------------------------------------------------------------------------+------------------------------+\n",
      "|Holding company          |Category|Managed brands                                                                                                          |Franchised brands             |\n",
      "+-------------------------+--------+------------------------------------------------------------------------------------------------------------------------+------------------------------+\n",
      "|Accor                    |Luxury  |Raffles                                                                                                                 |Banyan Tree Hótels and Resorts|\n",
      "|Aman Resorts             |Luxury  |Aman                                                                                                                    |NULL                          |\n",
      "|APA Group                |Midscale|Coast Hotels                                                                                                            |NULL                          |\n",
      "|Archipelago International|NULL    |ASTON, Collection by ASTON, Huxley, Kamuela Villas, The Alana, HARPER, Quest Hotels, HotelNeo, favehotels, Nomad Hostels|NULL                          |\n",
      "|Ascott Limited (The)     |Luxury  |The Crest Collection                                                                                                    |NULL                          |\n",
      "+-------------------------+--------+------------------------------------------------------------------------------------------------------------------------+------------------------------+\n",
      "only showing top 5 rows\n",
      "\n",
      "+-------------------------+--------+------------------------------------------------------------------------------------------------------------------------+------------------------------+\n",
      "|Holding company          |Category|Managed brands                                                                                                          |Franchised brands             |\n",
      "+-------------------------+--------+------------------------------------------------------------------------------------------------------------------------+------------------------------+\n",
      "|Accor                    |Luxury  |Raffles                                                                                                                 |Banyan Tree Hótels and Resorts|\n",
      "|Aman Resorts             |Luxury  |Aman                                                                                                                    |NULL                          |\n",
      "|APA Group                |Midscale|Coast Hotels                                                                                                            |NULL                          |\n",
      "|Archipelago International|Luxury  |ASTON, Collection by ASTON, Huxley, Kamuela Villas, The Alana, HARPER, Quest Hotels, HotelNeo, favehotels, Nomad Hostels|NULL                          |\n",
      "|Ascott Limited (The)     |Luxury  |The Crest Collection                                                                                                    |NULL                          |\n",
      "+-------------------------+--------+------------------------------------------------------------------------------------------------------------------------+------------------------------+\n",
      "only showing top 5 rows\n",
      "\n"
     ]
    }
   ],
   "source": [
    "#droping out the rows with null values\n",
    "filtered_df = df2.filter(col(\"Holding company\").isNotNull())\n",
    "\n",
    "# Show the filtered DataFrame\n",
    "filtered_df.show(5,truncate=False)\n",
    "\n",
    "#imputing the category column with mode value\n",
    "mode_value = filtered_df.groupBy(\"Category\").count().orderBy(desc(\"count\")).first()[0]\n",
    "\n",
    "# Step 2: Fill nulls in the \"Category\" column with the mode value\n",
    "imputed_df = filtered_df.fillna({\"Category\": mode_value})\n",
    "\n",
    "# Show the final DataFrame\n",
    "imputed_df.show(5,truncate=False)"
   ]
  },
  {
   "cell_type": "markdown",
   "metadata": {},
   "source": [
    "SPECIFYING THE BEST TYPE AND NULLABLE FOR EACH NCOLUMN"
   ]
  },
  {
   "cell_type": "code",
   "execution_count": 11,
   "metadata": {},
   "outputs": [
    {
     "name": "stdout",
     "output_type": "stream",
     "text": [
      "root\n",
      " |-- Holding company: string (nullable = true)\n",
      " |-- Category: string (nullable = true)\n",
      " |-- Managed brands: string (nullable = true)\n",
      " |-- Franchised brands: string (nullable = true)\n",
      "\n"
     ]
    }
   ],
   "source": [
    "# Define the schema with data types and nullability\n",
    "schema = StructType([\n",
    "    StructField(\"Holding company\", StringType(), nullable=True),\n",
    "    StructField(\"Category\", StringType(), nullable=True),  # Assuming it's nullable\n",
    "    StructField(\"Managed brands\", StringType(), nullable=True),  # Assuming it's nullable\n",
    "    StructField(\"Franchised brands\", StringType(), nullable=True)  # Assuming it's nullable\n",
    "])\n",
    "\n",
    "# Create or modify the DataFrame with the defined schema\n",
    "\n",
    "df_with_schema = spark.createDataFrame(imputed_df.rdd, schema)\n",
    "\n",
    "# Show the schema\n",
    "df_with_schema.printSchema()"
   ]
  },
  {
   "cell_type": "markdown",
   "metadata": {},
   "source": [
    "USE PYSPARK DATAFRAME GROUPBY TO COMPUTE\n",
    "\n",
    "  TOTAL NUMBER OF ROOMS PER \"HEADQUARTERD COUNTRY\"\n",
    "\n",
    "  AVERAGE NUMBER OF PROPERTIES PER \"HEADQUARTERED COUNTRY\"\n",
    "\n",
    "  NUMBER OF \"MANAGED BRANDS\" PER \"HOLDING COMPANY\" AND \"CATEGORY\""
   ]
  },
  {
   "cell_type": "code",
   "execution_count": 12,
   "metadata": {},
   "outputs": [
    {
     "name": "stdout",
     "output_type": "stream",
     "text": [
      "['Holding company', 'Headquarters', 'Locations', 'Year established', 'Properties', 'Rooms', 'Headquarters country']\n",
      "root\n",
      " |-- Holding company: string (nullable = true)\n",
      " |-- Headquarters: string (nullable = true)\n",
      " |-- Locations: string (nullable = true)\n",
      " |-- Year established: string (nullable = true)\n",
      " |-- Properties: string (nullable = true)\n",
      " |-- Rooms: string (nullable = true)\n",
      " |-- Headquarters country: string (nullable = true)\n",
      "\n"
     ]
    }
   ],
   "source": [
    "print(df1.columns)\n",
    "df1.printSchema()"
   ]
  },
  {
   "cell_type": "code",
   "execution_count": 13,
   "metadata": {},
   "outputs": [],
   "source": [
    "df1 = df1.withColumn('Properties', regexp_replace(col('Properties'), ',', ''))\n",
    "df1 = df1.withColumn('Rooms', regexp_replace(col('Rooms'), ',', ''))\n",
    "\n",
    "# Cast columns to integer data types\n",
    "df1 = df1.withColumn(\"Properties\", col(\"Properties\").cast(\"integer\"))\n",
    "df1 = df1.withColumn(\"Rooms\", col(\"Rooms\").cast(\"integer\"))"
   ]
  },
  {
   "cell_type": "code",
   "execution_count": 14,
   "metadata": {},
   "outputs": [
    {
     "name": "stdout",
     "output_type": "stream",
     "text": [
      "+--------------------+-----------+\n",
      "|Headquarters country|Total Rooms|\n",
      "+--------------------+-----------+\n",
      "|Sweden              |49983107   |\n",
      "|Germany             |2215116    |\n",
      "|France              |8010015    |\n",
      "|Sri Lanka           |255627     |\n",
      "|NULL                |NULL       |\n",
      "|Belgium             |NULL       |\n",
      "|China               |139899449  |\n",
      "|India               |50105310   |\n",
      "|Norway              |NULL       |\n",
      "|Spain               |63228856   |\n",
      "+--------------------+-----------+\n",
      "only showing top 10 rows\n",
      "\n",
      "+--------------------+------------------+\n",
      "|Headquarters country|Average Properties|\n",
      "+--------------------+------------------+\n",
      "|Sweden              |67405.25          |\n",
      "|Germany             |7663.0            |\n",
      "|France              |27407.5           |\n",
      "|Sri Lanka           |22.0              |\n",
      "|NULL                |NULL              |\n",
      "|Belgium             |NULL              |\n",
      "|China               |351762.25         |\n",
      "|India               |75160.66666666667 |\n",
      "|Norway              |NULL              |\n",
      "|Spain               |57285.0           |\n",
      "+--------------------+------------------+\n",
      "only showing top 10 rows\n",
      "\n"
     ]
    }
   ],
   "source": [
    "rooms_per_country = df1.groupBy(\"Headquarters country\").agg(\n",
    "    sum(\"Rooms\").alias(\"Total Rooms\")\n",
    ")\n",
    "\n",
    "# Average number of properties per \"Headquarters country\"\n",
    "avg_properties_per_country = df1.groupBy(\"Headquarters country\").agg(\n",
    "    avg(\"Properties\").alias(\"Average Properties\")\n",
    ")\n",
    "\n",
    "# Show results\n",
    "rooms_per_country.show(10,truncate=False)\n",
    "avg_properties_per_country.show(10,truncate=False)"
   ]
  },
  {
   "cell_type": "code",
   "execution_count": 15,
   "metadata": {},
   "outputs": [
    {
     "name": "stdout",
     "output_type": "stream",
     "text": [
      "+---------------+--------+--------------+--------------------+----------+\n",
      "|Holding company|Category|Managed brands|   Franchised brands|row_number|\n",
      "+---------------+--------+--------------+--------------------+----------+\n",
      "|          Accor|  Luxury|       Raffles|Banyan Tree Hótel...|         0|\n",
      "+---------------+--------+--------------+--------------------+----------+\n",
      "only showing top 1 row\n",
      "\n"
     ]
    }
   ],
   "source": [
    "#The first 5 rows of the second DataFrame\n",
    "# df2.show(5)\n",
    "#Adding row_number for rows\n",
    "second_df = df2.withColumn(\"row_number\",monotonically_increasing_id())\n",
    "second_df.show(1)"
   ]
  },
  {
   "cell_type": "code",
   "execution_count": 16,
   "metadata": {},
   "outputs": [
    {
     "name": "stdout",
     "output_type": "stream",
     "text": [
      "Row numbers with string values in the Holding company column: [0, 36, 37, 40, 41, 56, 57, 61, 65, 66, 79, 84, 91, 92, 101, 114, 115, 119, 121, 125, 130, 138, 139, 141, 142, 146, 147, 151, 152, 157, 170, 173, 177, 185, 191, 205, 207, 208, 209, 222, 223, 225, 230, 235, 236, 237, 246, 250, 251, 280, 286, 292, 294, 301, 305, 311, 313, 317, 320, 332, 342, 347, 351, 359, 369, 373, 379, 381, 383, 387, 393, 401, 405, 406, 407, 410, 414, 418, 422, 423, 424, 425, 426, 428, 447]\n"
     ]
    }
   ],
   "source": [
    "# Filter rows where the \"Holding company\" column contains string values\n",
    "rows_with_string_values_df2 = second_df.filter(col(\"Holding company\").isNotNull() & col(\"Holding company\").cast(\"string\").rlike(\"[a-zA-Z]\"))\n",
    "\n",
    "# Select row numbers\n",
    "row_numbers_with_string_values_df2 = rows_with_string_values_df2.select(\"row_number\").rdd.flatMap(lambda x: x).collect()\n",
    "\n",
    "# Display the row numbers\n",
    "print(\"Row numbers with string values in the Holding company column:\", row_numbers_with_string_values_df2)"
   ]
  },
  {
   "cell_type": "code",
   "execution_count": 17,
   "metadata": {},
   "outputs": [],
   "source": [
    "from functools import reduce\n",
    "from pyspark.sql import DataFrame"
   ]
  },
  {
   "cell_type": "code",
   "execution_count": 21,
   "metadata": {},
   "outputs": [],
   "source": [
    "####Divding and combining the Dataframe based on row_numbers_with_string_values_df2####\n",
    "separted_df2=[]\n",
    "for i in range(0,len(row_numbers_with_string_values_df2)-1):\n",
    "    start=row_numbers_with_string_values_df2[i]\n",
    "    final=row_numbers_with_string_values_df2[i+1]\n",
    "    # print(start,final)\n",
    "    # Select rows initial to final and concatenate values into a single row\n",
    "    concatenated_df = second_df.filter((col(\"row_number\") >= start) & (col(\"row_number\") < final)) \\\n",
    "                    .select([collect_list(col).alias(col) for col in second_df.columns]) \\\n",
    "                    .agg(*[first(col).alias(col) for col in second_df.columns])\n",
    "    \n",
    "    # concatenated_df.show(1)\n",
    "    separted_df2.append(concatenated_df)\n",
    "\n",
    "\n",
    "# print(separted_df2)\n",
    "# Combine DataFrames into a single DataFrame\n",
    "combined_df2 = reduce(DataFrame.union, separted_df2)\n",
    "# combined_df2.show()\n",
    "\n",
    "# droping the row_number\n",
    "combined_df2_without_column = combined_df2.drop(\"row_number\")\n",
    "\n"
   ]
  },
  {
   "cell_type": "code",
   "execution_count": 22,
   "metadata": {},
   "outputs": [
    {
     "name": "stderr",
     "output_type": "stream",
     "text": [
      "24/10/14 15:10:12 WARN DAGScheduler: Broadcasting large task binary with size 1280.1 KiB\n",
      "24/10/14 15:10:12 WARN DAGScheduler: Broadcasting large task binary with size 1280.1 KiB\n",
      "24/10/14 15:10:12 WARN DAGScheduler: Broadcasting large task binary with size 1280.1 KiB\n"
     ]
    },
    {
     "name": "stdout",
     "output_type": "stream",
     "text": [
      "+---------------------------+------------------------------------------------------------------------------------------+------------------------------------------------------------------------------------------------------------------------------------------------------------------------------------------------------------------------------------------------------------------------------------------------------------------------------------------------------------------------------+-----------------------------------------------+\n",
      "|Holding company            |Category                                                                                  |Managed brands                                                                                                                                                                                                                                                                                                                                                                |Franchised brands                              |\n",
      "+---------------------------+------------------------------------------------------------------------------------------+------------------------------------------------------------------------------------------------------------------------------------------------------------------------------------------------------------------------------------------------------------------------------------------------------------------------------------------------------------------------------+-----------------------------------------------+\n",
      "|Accor                      |Luxury, Premium, Midscale, Economy                                                        |Raffles, Orient Express, Delano, SO/, Sofitel Legend, Fairmont, SLS, Sofitel, The House of Originals, Rixos, onefinestay, Mantis, MGallery, Art Series, Mondrian, Pullman, Swissôtel, Angsana, 25 Hours, Hyde, Mövenpick, Grand Mercure, Peppers, The Sebel, Mantra, Novotel, Mercure, Adagio, Mama Shelter, Tribe, Breakfree, ibis, ibis Styles, ibis budget, Jo&Joe, hotelF1|Banyan Tree Hótels and Resorts                 |\n",
      "|Aman Resorts               |Luxury                                                                                    |Aman                                                                                                                                                                                                                                                                                                                                                                          |                                               |\n",
      "|APA Group                  |Midscale                                                                                  |Coast Hotels, APA Hotels                                                                                                                                                                                                                                                                                                                                                      |                                               |\n",
      "|Archipelago International  |                                                                                          |ASTON, Collection by ASTON, Huxley, Kamuela Villas, The Alana, HARPER, Quest Hotels, HotelNeo, favehotels, Nomad Hostels                                                                                                                                                                                                                                                      |                                               |\n",
      "|Ascott Limited (The)       |Luxury, Premium, Upscale, Upper-Midscale, Midscale, Lower-Midscale, Economy, Uncategorized|The Crest Collection, The Unlimited Collection, Preference Hotels, Ascott, Oakwood Premier, Oakwood, Citadines, lyf, Somerset, Vertu, Harris Hotels & Resorts, Fox Hotels, YELLO, POP! Hotels, Quest Apartment Hotels                                                                                                                                                         |                                               |\n",
      "|Avari Hotels               |Luxury                                                                                    |Avari hotels                                                                                                                                                                                                                                                                                                                                                                  |                                               |\n",
      "|Banyan Tree Holdings       |Luxury, Premium, Midscale                                                                 |Banyan Tree, Cassia, Angsana, Dhawa                                                                                                                                                                                                                                                                                                                                           |                                               |\n",
      "|Barrière                   |Luxury                                                                                    |Le Fouquet's Paris, Le Majestic Cannes, Les Neiges Courchevel, Le Normandy Deauville                                                                                                                                                                                                                                                                                          |                                               |\n",
      "|Belmond Limited            |Luxury                                                                                    |Belmond                                                                                                                                                                                                                                                                                                                                                                       |                                               |\n",
      "|Best Western Hotels        |Premium, Midscale, Uncategorized                                                          |Best Western Premier, Vīb, BW Premier Collection, Sadie, Best Western, Glō, Best Western Plus, Executive Residency by Best Western, Aiden, BW Signature Collection by Best Western, SureStay Hotel by Best Western, SureStay Plus Hotel by Best Western, SureStay Collection by Best Western                                                                                  |                                               |\n",
      "|BTG Homeinn hotel group    |Midscale, Budget                                                                          |Yitel, Homeinn Plus, Home Inns, Motel 168, Fairyland Hotels                                                                                                                                                                                                                                                                                                                   |                                               |\n",
      "|Centara Hotels & Resorts18 |Premium, Midscale, Budget                                                                 |Centara Reserve, Centara Grand, Centara, Centara Boutique Collection, Centara Residences & Suites, Centra by Centara, COSI                                                                                                                                                                                                                                                    |                                               |\n",
      "|China Lodging Group        |Midscale                                                                                  |JI Hotel                                                                                                                                                                                                                                                                                                                                                                      |Novotel                                        |\n",
      "|Huazhu Hotels Group        |Budget                                                                                    |Starway Hotel, Joya Hotel, Manxin Hotels & Resorts, HanTing Plus Hotel, Orange Selected, HanTing Hotel, Hi Inn, Elan Hotel, Orange Hotel                                                                                                                                                                                                                                      |Mercure, Grand Mercure Hotel, ibis, ibis Styles|\n",
      "|Choice Hotels International|Premium, Midscale, Budget                                                                 |Ascend Collection, Cambria Suites, Clarion Hotel, Comfort Suites, Clarion Inn, Mainstay Suites, Quality Inn, Comfort Inn, Sleep Inn, Econo Lodge, Rodeway Inn, Suburban Extended Stay Hotel, WoodSpring Suites                                                                                                                                                                |                                               |\n",
      "|Cinnamon Hotels & Resorts  |Luxury                                                                                    |Cinnaomon Hotels and Resorts                                                                                                                                                                                                                                                                                                                                                  |                                               |\n",
      "|Compass Hospitality        |Premium, Midscale, Budget                                                                 |Compass, Ananda, Citrus Hotel, Citin Hotel                                                                                                                                                                                                                                                                                                                                    |                                               |\n",
      "|Dalata Hotel Group29       |                                                                                          |Maldron, Clayton                                                                                                                                                                                                                                                                                                                                                              |                                               |\n",
      "|Dorchester Collection      |                                                                                          |Dorchester Collection                                                                                                                                                                                                                                                                                                                                                         |                                               |\n",
      "|Drury Hotels               |Midscale, Budget                                                                          |Drury Plaza Hotel, Drury Suites, Drury Inn, Drury Inn and Suites, Pear Tree Inn                                                                                                                                                                                                                                                                                               |                                               |\n",
      "+---------------------------+------------------------------------------------------------------------------------------+------------------------------------------------------------------------------------------------------------------------------------------------------------------------------------------------------------------------------------------------------------------------------------------------------------------------------------------------------------------------------+-----------------------------------------------+\n",
      "only showing top 20 rows\n",
      "\n"
     ]
    },
    {
     "name": "stderr",
     "output_type": "stream",
     "text": [
      "                                                                                \r"
     ]
    }
   ],
   "source": [
    "df2_columns=combined_df2_without_column.columns\n",
    "for column in df2_columns:\n",
    "    # Change the data type of the column to string\n",
    "    combined_df2_without_column = combined_df2_without_column.withColumn(column, col(column).cast(\"string\"))\n",
    "\n",
    "    # Remove square brackets from the string\n",
    "    combined_df2_without_column = combined_df2_without_column.withColumn(column, regexp_replace(column, \"\\\\[|\\\\]\", \"\"))\n",
    "combined_df2_without_column.show(truncate=False)"
   ]
  },
  {
   "cell_type": "code",
   "execution_count": 23,
   "metadata": {},
   "outputs": [],
   "source": [
    "# Dropping the rows with null values and empty string \"\" \n",
    "combined_df2_without_column = combined_df2_without_column.dropna(subset=[\"Category\"])\n",
    "\n",
    "combined_df2_without_column = combined_df2_without_column.filter(col(\"Category\") != \"\")\n",
    "\n",
    "combined_df2_without_column = combined_df2_without_column.dropna(subset=[\"Holding company\"])\n",
    "\n",
    "combined_df2_without_column = combined_df2_without_column.filter(col(\"Holding company\") != \"\")\n",
    "\n",
    "# Dropping the rows with null values and empty string \"\" \n",
    "\n",
    "combined_df2_without_column = combined_df2_without_column.dropna(subset=[\"Managed brands\"])\n",
    "\n",
    "combined_df2_without_column = combined_df2_without_column.filter(col(\"Managed brands\") != \"\")\n",
    "\n"
   ]
  },
  {
   "cell_type": "code",
   "execution_count": 210,
   "metadata": {},
   "outputs": [
    {
     "name": "stderr",
     "output_type": "stream",
     "text": [
      "24/09/30 12:25:32 WARN DAGScheduler: Broadcasting large task binary with size 3.7 MiB\n",
      "[Stage 905:=====================================================> (82 + 1) / 84]\r"
     ]
    },
    {
     "name": "stdout",
     "output_type": "stream",
     "text": [
      "+---------------------------+------------------------------------------------------------------------------------------+--------------------+\n",
      "|Holding Company            |Category                                                                                  |Total_Managed Brands|\n",
      "+---------------------------+------------------------------------------------------------------------------------------+--------------------+\n",
      "|Accor                      |Luxury, Premium, Midscale, Economy                                                        |36                  |\n",
      "|Aman Resorts               |Luxury                                                                                    |1                   |\n",
      "|APA Group                  |Midscale                                                                                  |2                   |\n",
      "|Ascott Limited (The)       |Luxury, Premium, Upscale, Upper-Midscale, Midscale, Lower-Midscale, Economy, Uncategorized|15                  |\n",
      "|Avari Hotels               |Luxury                                                                                    |1                   |\n",
      "|Banyan Tree Holdings       |Luxury, Premium, Midscale                                                                 |4                   |\n",
      "|Barrière                   |Luxury                                                                                    |4                   |\n",
      "|Belmond Limited            |Luxury                                                                                    |1                   |\n",
      "|Best Western Hotels        |Premium, Midscale, Uncategorized                                                          |13                  |\n",
      "|BTG Homeinn hotel group    |Midscale, Budget                                                                          |5                   |\n",
      "|Centara Hotels & Resorts18 |Premium, Midscale, Budget                                                                 |7                   |\n",
      "|China Lodging Group        |Midscale                                                                                  |1                   |\n",
      "|Huazhu Hotels Group        |Budget                                                                                    |9                   |\n",
      "|Choice Hotels International|Premium, Midscale, Budget                                                                 |13                  |\n",
      "|Cinnamon Hotels & Resorts  |Luxury                                                                                    |1                   |\n",
      "|Compass Hospitality        |Premium, Midscale, Budget                                                                 |4                   |\n",
      "|Drury Hotels               |Midscale, Budget                                                                          |5                   |\n",
      "|Dusit International        |Luxury, Premium, Midscale, Uncategorized                                                  |8                   |\n",
      "|Elite Hotels of Sweden     |Midscale                                                                                  |1                   |\n",
      "|Extended Stay America      |Budget                                                                                    |1                   |\n",
      "+---------------------------+------------------------------------------------------------------------------------------+--------------------+\n",
      "only showing top 20 rows\n",
      "\n"
     ]
    },
    {
     "name": "stderr",
     "output_type": "stream",
     "text": [
      "24/09/30 12:25:36 WARN DAGScheduler: Broadcasting large task binary with size 1961.1 KiB\n",
      "                                                                                \r"
     ]
    }
   ],
   "source": [
    "\n",
    "# Split the \"Rooms\" column by commas and count the number of elements\n",
    "No_Managedbrands = combined_df2_without_column.withColumn(\"Managed Brands\", size(split(col(\"Managed Brands\"), \",\"))) \\\n",
    "    .groupBy(\"Holding Company\",\"Category\") \\\n",
    "    .agg(sum(\"Managed Brands\").alias(\"Total_Managed Brands\"))\n",
    "\n",
    "# Show the result\n",
    "No_Managedbrands.show(truncate=False)"
   ]
  }
 ],
 "metadata": {
  "kernelspec": {
   "display_name": "Python 3",
   "language": "python",
   "name": "python3"
  },
  "language_info": {
   "codemirror_mode": {
    "name": "ipython",
    "version": 3
   },
   "file_extension": ".py",
   "mimetype": "text/x-python",
   "name": "python",
   "nbconvert_exporter": "python",
   "pygments_lexer": "ipython3",
   "version": "3.10.12"
  }
 },
 "nbformat": 4,
 "nbformat_minor": 2
}
